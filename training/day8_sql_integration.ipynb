{
 "cells": [
  {
   "cell_type": "markdown",
   "id": "9778268a-a773-45c5-b553-30fef6fc4fb5",
   "metadata": {},
   "source": [
    "# Task-3 Connecting MySQL to Python"
   ]
  },
  {
   "cell_type": "code",
   "execution_count": 5,
   "id": "abfb839c-7fa3-498f-bf32-43a9b8378adb",
   "metadata": {},
   "outputs": [],
   "source": [
    "import pandas as pd\n",
    "import pymysql"
   ]
  },
  {
   "cell_type": "code",
   "execution_count": 7,
   "id": "d2031f1f-0e3d-4c8a-9d05-50a28ae5215c",
   "metadata": {},
   "outputs": [
    {
     "name": "stdout",
     "output_type": "stream",
     "text": [
      "   payment_id  customer_id  staff_id  rental_id  amount        payment_date  \\\n",
      "0          44            2         2       9236   10.99 2005-07-30 13:47:43   \n",
      "1          69            3         2       7503   10.99 2005-07-27 20:23:12   \n",
      "2         324           12         2      10392   10.99 2005-08-01 06:50:26   \n",
      "3         342           13         2       8831   11.99 2005-07-29 22:37:41   \n",
      "4         551           21         1       3212   10.99 2005-06-21 01:04:35   \n",
      "\n",
      "          last_update  \n",
      "0 2006-02-15 22:12:30  \n",
      "1 2006-02-15 22:12:30  \n",
      "2 2006-02-15 22:12:31  \n",
      "3 2006-02-15 22:12:31  \n",
      "4 2006-02-15 22:12:33  \n"
     ]
    },
    {
     "name": "stderr",
     "output_type": "stream",
     "text": [
      "C:\\Users\\fk200\\AppData\\Local\\Temp\\ipykernel_14056\\1234941837.py:9: UserWarning: pandas only supports SQLAlchemy connectable (engine/connection) or database string URI or sqlite3 DBAPI2 connection. Other DBAPI2 objects are not tested. Please consider using SQLAlchemy.\n",
      "  df = pd.read_sql(query, conn)\n"
     ]
    }
   ],
   "source": [
    "conn = pymysql.connect(\n",
    "    host = \"localhost\",\n",
    "    user = \"root\",\n",
    "    password = \"Faizan@123\",\n",
    "    database = \"sakila\"\n",
    ")\n",
    "\n",
    "query = \"SELECT * FROM payment WHERE amount > 10\"\n",
    "df = pd.read_sql(query, conn)\n",
    "\n",
    "print(df.head())"
   ]
  },
  {
   "cell_type": "markdown",
   "id": "f828b010-836b-464a-b634-bfce7e9aa496",
   "metadata": {},
   "source": [
    "# Task-5 Pandas .merge() (JOIN)"
   ]
  },
  {
   "cell_type": "code",
   "execution_count": 9,
   "id": "458943d5-1703-4c7d-a370-4900027f592d",
   "metadata": {},
   "outputs": [
    {
     "name": "stderr",
     "output_type": "stream",
     "text": [
      "C:\\Users\\fk200\\AppData\\Local\\Temp\\ipykernel_14056\\544955472.py:1: UserWarning: pandas only supports SQLAlchemy connectable (engine/connection) or database string URI or sqlite3 DBAPI2 connection. Other DBAPI2 objects are not tested. Please consider using SQLAlchemy.\n",
      "  customers = pd.read_sql(\"SELECT * FROM customer\", conn)\n",
      "C:\\Users\\fk200\\AppData\\Local\\Temp\\ipykernel_14056\\544955472.py:2: UserWarning: pandas only supports SQLAlchemy connectable (engine/connection) or database string URI or sqlite3 DBAPI2 connection. Other DBAPI2 objects are not tested. Please consider using SQLAlchemy.\n",
      "  payments = pd.read_sql(\"SELECT * FROM payment\", conn)\n"
     ]
    },
    {
     "name": "stdout",
     "output_type": "stream",
     "text": [
      "   customer_id  store_id first_name last_name             email  address_id  \\\n",
      "0            1         1       MARY     SMITH  test@example.com           5   \n",
      "1            1         1       MARY     SMITH  test@example.com           5   \n",
      "2            1         1       MARY     SMITH  test@example.com           5   \n",
      "3            1         1       MARY     SMITH  test@example.com           5   \n",
      "4            1         1       MARY     SMITH  test@example.com           5   \n",
      "\n",
      "   active         create_date       last_update_x  payment_id  staff_id  \\\n",
      "0       1 2006-02-14 22:04:36 2025-07-28 16:30:41           1         1   \n",
      "1       1 2006-02-14 22:04:36 2025-07-28 16:30:41           2         1   \n",
      "2       1 2006-02-14 22:04:36 2025-07-28 16:30:41           3         1   \n",
      "3       1 2006-02-14 22:04:36 2025-07-28 16:30:41           4         2   \n",
      "4       1 2006-02-14 22:04:36 2025-07-28 16:30:41           5         2   \n",
      "\n",
      "   rental_id  amount        payment_date       last_update_y  \n",
      "0         76    2.99 2005-05-25 11:30:37 2006-02-15 22:12:30  \n",
      "1        573    0.99 2005-05-28 10:35:23 2006-02-15 22:12:30  \n",
      "2       1185    5.99 2005-06-15 00:54:12 2006-02-15 22:12:30  \n",
      "3       1422    0.99 2005-06-15 18:02:53 2006-02-15 22:12:30  \n",
      "4       1476    9.99 2005-06-15 21:08:46 2006-02-15 22:12:30  \n"
     ]
    }
   ],
   "source": [
    "customers = pd.read_sql(\"SELECT * FROM customer\", conn)\n",
    "payments = pd.read_sql(\"SELECT * FROM payment\", conn)\n",
    "\n",
    "merged = pd.merge(customers, payments, on = 'customer_id', how = 'inner')\n",
    "print(merged.head())\n"
   ]
  },
  {
   "cell_type": "code",
   "execution_count": null,
   "id": "1d8a7679-9ec1-40a2-ab0e-b3ce578256ad",
   "metadata": {},
   "outputs": [],
   "source": []
  }
 ],
 "metadata": {
  "kernelspec": {
   "display_name": "Python 3 (ipykernel)",
   "language": "python",
   "name": "python3"
  },
  "language_info": {
   "codemirror_mode": {
    "name": "ipython",
    "version": 3
   },
   "file_extension": ".py",
   "mimetype": "text/x-python",
   "name": "python",
   "nbconvert_exporter": "python",
   "pygments_lexer": "ipython3",
   "version": "3.12.4"
  }
 },
 "nbformat": 4,
 "nbformat_minor": 5
}
