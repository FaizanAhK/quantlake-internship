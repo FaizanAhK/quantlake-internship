{
 "cells": [
  {
   "cell_type": "markdown",
   "id": "f70f1b24-8138-40b3-8468-fc94997cd871",
   "metadata": {},
   "source": [
    "# Task-1: Data Structures Deep Dive"
   ]
  },
  {
   "cell_type": "code",
   "execution_count": 1,
   "id": "95cc6778-9415-4bae-b880-b9eedca59371",
   "metadata": {},
   "outputs": [
    {
     "name": "stdout",
     "output_type": "stream",
     "text": [
      "Sorted Values :  [1, 3, 5, 6, 9]\n",
      "Location: Noida\n"
     ]
    }
   ],
   "source": [
    "# List sorting and duplicate removal\n",
    "\n",
    "# Write a Code that sorts a list, removes duplicates using a set\n",
    "\n",
    "nums = [5,3,6,3,9,1,5]\n",
    "unique_sorted = sorted(set(nums))\n",
    "print('Sorted Values : ', unique_sorted)\n",
    "\n",
    "# Deeply Nested Dictionary Lookup\n",
    "\n",
    "# Write a code that access Deeply nested dictionary values\n",
    "\n",
    "person = { 'name' : 'Faizan Khan',\n",
    "          'Contact' : {\n",
    "              'Email' : 'fk20013358@gmail.com',\n",
    "              'Address' : {\n",
    "                  'Location' : 'Noida',\n",
    "                  'Zip' : 201301\n",
    "              }\n",
    "          }\n",
    "}\n",
    "\n",
    "print('Location:', person['Contact']['Address']['Location'])"
   ]
  },
  {
   "cell_type": "markdown",
   "id": "ec000997-99a6-4df9-a972-ca12db01268b",
   "metadata": {},
   "source": [
    "# Functions and Built-in Modules"
   ]
  },
  {
   "cell_type": "code",
   "execution_count": 3,
   "id": "b345bb31-ad80-4dbd-9db9-044b1b7d95f2",
   "metadata": {},
   "outputs": [],
   "source": [
    "# Write your own funtions : Factorial Calculator \n",
    "\n",
    "def factorial(n):\n",
    "    if n==0 or n==1:\n",
    "        return 1\n",
    "    return n*factorial(n-1)\n",
    "\n",
    "# Write your own functions : Prime Number Checker\n",
    "\n",
    "def is_prime(n):\n",
    "    if n <= 1:\n",
    "        return False\n",
    "    for i in range(2, int(n**0.5)+1):\n",
    "        if n % i == 0:\n",
    "            return False\n",
    "    return True"
   ]
  },
  {
   "cell_type": "code",
   "execution_count": 9,
   "id": "e1163019-c7b6-41dc-a091-6f6d2aa847f5",
   "metadata": {},
   "outputs": [
    {
     "name": "stdout",
     "output_type": "stream",
     "text": [
      "Random Number:  61\n",
      "Current Date:  2025-06-22 13:39:18.199986\n",
      "Square Root of 16:  4.0\n"
     ]
    }
   ],
   "source": [
    "# Using Modules\n",
    "\n",
    "import math, random, datetime\n",
    "\n",
    "print(\"Random Number: \", random.randint(1,100))\n",
    "print(\"Current Date: \", datetime.datetime.now())\n",
    "print(\"Square Root of 16: \", math.sqrt(16))"
   ]
  },
  {
   "cell_type": "markdown",
   "id": "01a8d491-a473-47db-a733-771e6778cd45",
   "metadata": {},
   "source": [
    "# Task-3 Exception Handling"
   ]
  },
  {
   "cell_type": "code",
   "execution_count": 16,
   "id": "8afb1f7d-c2cc-49fa-a5bd-ff06413f2dc1",
   "metadata": {},
   "outputs": [
    {
     "name": "stdout",
     "output_type": "stream",
     "text": [
      "Cannot divide by zero!\n",
      "Division attempted.\n"
     ]
    },
    {
     "name": "stdin",
     "output_type": "stream",
     "text": [
      "Enter your age:  fak\n"
     ]
    },
    {
     "name": "stdout",
     "output_type": "stream",
     "text": [
      "Please enter a valid number: \n"
     ]
    }
   ],
   "source": [
    "# Write a code that tries division by Zero Handling and handles the error\n",
    "\n",
    "try:\n",
    "    result = 10/0\n",
    "except ZeroDivisionError:\n",
    "    print(\"Cannot divide by zero!\")\n",
    "finally:\n",
    "    print(\"Division attempted.\")\n",
    "\n",
    "# Write a code that validates user input data types\n",
    "\n",
    "try:\n",
    "    age = int(input(\"Enter your age: \"))\n",
    "except ValueError:\n",
    "    print(\"Please enter a valid number: \")"
   ]
  },
  {
   "cell_type": "markdown",
   "id": "76d85cab-616e-49a8-b65c-ea496fa20f96",
   "metadata": {},
   "source": [
    "# Task-4 Practice Problem"
   ]
  },
  {
   "cell_type": "code",
   "execution_count": 19,
   "id": "b691fd9e-1805-4075-a40d-5484075188d1",
   "metadata": {},
   "outputs": [
    {
     "name": "stdout",
     "output_type": "stream",
     "text": [
      "1\n",
      "2\n",
      "Fizz\n",
      "4\n",
      "Buzz\n",
      "Fizz\n",
      "7\n",
      "8\n",
      "Fizz\n",
      "Buzz\n",
      "11\n",
      "Fizz\n",
      "13\n",
      "14\n",
      "FizzBuzz\n",
      "16\n",
      "17\n",
      "Fizz\n",
      "19\n",
      "Buzz\n"
     ]
    }
   ],
   "source": [
    "# Problems on FizzBuzz\n",
    "\n",
    "for i in range(1,21):\n",
    "    if i % 3 == 0 and i % 5 == 0:\n",
    "        print(\"FizzBuzz\")\n",
    "    elif i % 3 == 0:\n",
    "        print(\"Fizz\")\n",
    "    elif i % 5 == 0: \n",
    "        print(\"Buzz\")\n",
    "    else:\n",
    "        print(i)"
   ]
  },
  {
   "cell_type": "code",
   "execution_count": 21,
   "id": "835fb138-1555-4fe2-a993-356abb44f4ee",
   "metadata": {},
   "outputs": [
    {
     "name": "stdout",
     "output_type": "stream",
     "text": [
      "Largest Numbers 67\n"
     ]
    }
   ],
   "source": [
    "# Problems on Largest Number\n",
    "\n",
    "numbers = [23,45,67,34,56]\n",
    "print(\"Largest Numbers\", max(numbers))"
   ]
  },
  {
   "cell_type": "code",
   "execution_count": 25,
   "id": "4199d80d-ff46-439e-8198-9804bd420793",
   "metadata": {},
   "outputs": [
    {
     "name": "stdout",
     "output_type": "stream",
     "text": [
      "ekaLtnauQ\n"
     ]
    }
   ],
   "source": [
    "# Problems on reversing a string\n",
    "\n",
    "string = \"QuantLake\"\n",
    "print(string[::-1])"
   ]
  },
  {
   "cell_type": "code",
   "execution_count": null,
   "id": "d1cbbf6c-b7ac-4351-96c4-ff8208c66994",
   "metadata": {},
   "outputs": [],
   "source": []
  }
 ],
 "metadata": {
  "kernelspec": {
   "display_name": "Python 3 (ipykernel)",
   "language": "python",
   "name": "python3"
  },
  "language_info": {
   "codemirror_mode": {
    "name": "ipython",
    "version": 3
   },
   "file_extension": ".py",
   "mimetype": "text/x-python",
   "name": "python",
   "nbconvert_exporter": "python",
   "pygments_lexer": "ipython3",
   "version": "3.12.4"
  }
 },
 "nbformat": 4,
 "nbformat_minor": 5
}
